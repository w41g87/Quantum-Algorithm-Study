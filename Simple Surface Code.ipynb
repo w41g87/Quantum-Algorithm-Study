{
 "cells": [
  {
   "cell_type": "code",
   "execution_count": 51,
   "metadata": {},
   "outputs": [],
   "source": [
    "from qiskit import *\n",
    "from qiskit.providers.aer import noise\n",
    "from qiskit.tools.visualization import plot_histogram\n",
    "from qiskit.providers.aer.noise import NoiseModel\n",
    "from qiskit.quantum_info import random_statevector, Statevector\n",
    "from pymatching import Matching\n",
    "import numpy as np\n",
    "import json\n",
    "import math\n",
    "import matplotlib.pyplot as plt\n",
    "from scipy.interpolate import make_interp_spline, BSpline"
   ]
  },
  {
   "cell_type": "code",
   "execution_count": 9,
   "metadata": {},
   "outputs": [],
   "source": [
    "noiseC = noise.NoiseModel()\n",
    "noiseC.add_all_qubit_quantum_error(noise.pauli_error([('X', 0.1), ('Y', 0.1), ('Z', 0.1), ('I', 0.7)]), ['id'])\n",
    "basis_gates = noiseC.basis_gates"
   ]
  },
  {
   "cell_type": "code",
   "execution_count": 10,
   "metadata": {},
   "outputs": [],
   "source": [
    "zeroState = list()\n",
    "oneState = list()\n",
    "with open(\"zero.json\", \"r\") as fp:\n",
    "    zeroState = json.load(fp)\n",
    "with open(\"one.json\", \"r\") as fp:\n",
    "    oneState = json.load(fp)"
   ]
  },
  {
   "cell_type": "code",
   "execution_count": 11,
   "metadata": {},
   "outputs": [],
   "source": [
    "s = QuantumRegister(9, 'data')\n",
    "x = QuantumRegister(4, 'x-syndrome')\n",
    "z = QuantumRegister(4, 'z-syndrome')\n",
    "\n",
    "xi = ClassicalRegister(4, 'x-init')\n",
    "zi = ClassicalRegister(4, 'z-init')\n",
    "xf = ClassicalRegister(4, 'x-final')\n",
    "zf = ClassicalRegister(4, 'z-final')\n",
    "\n",
    "xl = QuantumRegister(1, 'x-logical')\n",
    "zl = QuantumRegister(1, 'z-logical')\n",
    "xm = ClassicalRegister(1, 'x-measure')\n",
    "zm = ClassicalRegister(1, 'z-measure')"
   ]
  },
  {
   "cell_type": "code",
   "execution_count": 12,
   "metadata": {},
   "outputs": [],
   "source": [
    "def init():\n",
    "    crt = QuantumCircuit()\n",
    "    crt.add_register(s)\n",
    "    crt.add_register(x)\n",
    "    crt.add_register(z)\n",
    "\n",
    "    crt.add_register(xl)\n",
    "    crt.add_register(zl)\n",
    "    \n",
    "    crt.add_register(xi)\n",
    "    crt.add_register(zi)\n",
    "    crt.add_register(xf)\n",
    "    crt.add_register(zf)\n",
    "\n",
    "    crt.add_register(xm)\n",
    "    crt.add_register(zm)\n",
    "    return crt"
   ]
  },
  {
   "cell_type": "code",
   "execution_count": 13,
   "metadata": {},
   "outputs": [],
   "source": [
    "def initArb(a, b):\n",
    "    crt = init()\n",
    "    initState = list(map((lambda x, y: a * x + b * y), zeroState, oneState))\n",
    "    crt.initialize(initState, s)\n",
    "    stabilizer(crt)\n",
    "    return crt"
   ]
  },
  {
   "cell_type": "code",
   "execution_count": 14,
   "metadata": {},
   "outputs": [],
   "source": [
    "def initZero():\n",
    "    crt = initRand()\n",
    "    synMeasure(crt, xi, zi)\n",
    "    measureZ(crt)\n",
    "    crt.x(range(3)).c_if(zm, 1)\n",
    "\n",
    "    return crt"
   ]
  },
  {
   "cell_type": "code",
   "execution_count": 15,
   "metadata": {},
   "outputs": [],
   "source": [
    "def initRand():\n",
    "    crt = init()\n",
    "    randomState = random_statevector(2 ** 9)\n",
    "    crt.initialize(randomState.data, s)\n",
    "    return crt"
   ]
  },
  {
   "cell_type": "code",
   "execution_count": 16,
   "metadata": {},
   "outputs": [],
   "source": [
    "def stabilizer(crt):\n",
    "    crt.h(s)\n",
    "    crt.cnot(s[0], x[0])\n",
    "    crt.cnot(s[1], x[0])\n",
    "    crt.cnot(s[3], x[0])\n",
    "    crt.cnot(s[4], x[0])\n",
    "    crt.cnot(s[2], x[1])\n",
    "    crt.cnot(s[5], x[1])\n",
    "    crt.cnot(s[3], x[2])\n",
    "    crt.cnot(s[6], x[2])\n",
    "    crt.cnot(s[4], x[3])\n",
    "    crt.cnot(s[5], x[3])\n",
    "    crt.cnot(s[7], x[3])\n",
    "    crt.cnot(s[8], x[3])\n",
    "    crt.barrier()\n",
    "    crt.h(s)\n",
    "    \n",
    "    crt.cnot(s[0], z[0])\n",
    "    crt.cnot(s[1], z[0])\n",
    "    crt.cnot(s[1], z[1])\n",
    "    crt.cnot(s[2], z[1])\n",
    "    crt.cnot(s[4], z[1])\n",
    "    crt.cnot(s[5], z[1])\n",
    "    crt.cnot(s[3], z[2])\n",
    "    crt.cnot(s[4], z[2])\n",
    "    crt.cnot(s[6], z[2])\n",
    "    crt.cnot(s[7], z[2])\n",
    "    crt.cnot(s[7], z[3])\n",
    "    crt.cnot(s[8], z[3])\n"
   ]
  },
  {
   "cell_type": "code",
   "execution_count": 17,
   "metadata": {},
   "outputs": [],
   "source": [
    "def synMeasure(crt, c1, c2):\n",
    "    crt.reset(x)\n",
    "    crt.reset(z)\n",
    "    stabilizer(crt)\n",
    "    crt.measure(x, c1)\n",
    "    crt.measure(z, c2)"
   ]
  },
  {
   "cell_type": "code",
   "execution_count": 18,
   "metadata": {},
   "outputs": [],
   "source": [
    "def measureZ(crt):\n",
    "    crt.reset(zl)\n",
    "    crt.barrier()\n",
    "    crt.cnot(s[0], zl[0])\n",
    "    crt.cnot(s[3], zl[0])\n",
    "    crt.cnot(s[6], zl[0])\n",
    "\n",
    "    crt.measure(zl, zm)\n",
    "    crt.reset(zl)"
   ]
  },
  {
   "cell_type": "code",
   "execution_count": 19,
   "metadata": {},
   "outputs": [],
   "source": [
    "def measureX(crt):\n",
    "    crt.reset(xl)\n",
    "    crt.barrier()\n",
    "    crt.h(range(3))\n",
    "    crt.cnot(s[0], xl[0])\n",
    "    crt.cnot(s[1], xl[0])\n",
    "    crt.cnot(s[2], xl[0])\n",
    "    crt.h(range(3))\n",
    "    crt.measure(xl, xm)\n",
    "    crt.reset(xl)"
   ]
  },
  {
   "cell_type": "code",
   "execution_count": 20,
   "metadata": {},
   "outputs": [],
   "source": [
    "def logicalX(crt):\n",
    "    crt.x(range(3))"
   ]
  },
  {
   "cell_type": "code",
   "execution_count": 21,
   "metadata": {},
   "outputs": [],
   "source": [
    "def logicalZ(crt):\n",
    "    crt.z(0)\n",
    "    crt.z(3)\n",
    "    crt.z(6)"
   ]
  },
  {
   "cell_type": "code",
   "execution_count": 15,
   "metadata": {},
   "outputs": [],
   "source": [
    "def ecc(crt):\n",
    "    crt.x(0).c_if(c, )"
   ]
  },
  {
   "cell_type": "code",
   "execution_count": 22,
   "metadata": {},
   "outputs": [],
   "source": [
    "#crt = initArb(1/math.sqrt(2), 1/math.sqrt(2))\n",
    "# crt = initRand()\n",
    "\n",
    "# stabilizer(crt)\n",
    "# measureZ(crt, 0)\n",
    "# # measureZ(crt)\n",
    "# # crt.x(range(3)).c_if(zm, 1)\n",
    "# syndrome(crt)\n",
    "# crt.barrier()\n",
    "# crt.cnot(s[0], xl[0])\n",
    "# crt.cnot(s[3], xl[0])\n",
    "# crt.cnot(s[6], xl[0])\n",
    "\n",
    "qasm = Aer.get_backend('qasm_simulator')\n",
    "state = Aer.get_backend('statevector_simulator')"
   ]
  },
  {
   "cell_type": "code",
   "execution_count": 17,
   "metadata": {},
   "outputs": [
    {
     "name": "stdout",
     "output_type": "stream",
     "text": [
      "{'0 0 0000 0000 0000 0000': 1, '0 0 0000 0000 0001 0000': 1, '0 0 0000 0000 0001 0001': 1, '0 0 0000 0000 0001 0011': 1, '0 0 0000 0000 0001 0100': 2, '0 0 0000 0000 0001 0110': 2, '0 0 0000 0000 0001 1000': 3, '0 0 0000 0000 0001 1010': 1, '0 0 0000 0000 0001 1011': 1, '0 0 0000 0000 0001 1110': 1, '0 0 0000 0000 0010 0011': 1, '0 0 0000 0000 0010 0100': 2, '0 0 0000 0000 0010 0101': 1, '0 0 0000 0000 0010 0110': 1, '0 0 0000 0000 0010 1001': 1, '0 0 0000 0000 0010 1011': 1, '0 0 0000 0000 0011 0000': 2, '0 0 0000 0000 0011 0001': 2, '0 0 0000 0000 0011 0011': 1, '0 0 0000 0000 0011 1000': 5, '0 0 0000 0000 0011 1001': 2, '0 0 0000 0000 0011 1100': 1, '0 0 0000 0000 0011 1111': 1, '0 0 0000 0000 0100 0001': 1, '0 0 0000 0000 0100 0010': 1, '0 0 0000 0000 0100 0011': 1, '0 0 0000 0000 0100 0100': 2, '0 0 0000 0000 0100 1000': 1, '0 0 0000 0000 0100 1001': 1, '0 0 0000 0000 0101 0111': 1, '0 0 0000 0000 0101 1001': 1, '0 0 0000 0000 0110 0000': 1, '0 0 0000 0000 0110 0010': 1, '0 0 0000 0000 0110 0101': 1, '0 0 0000 0000 0110 1000': 1, '0 0 0000 0000 0110 1100': 2, '0 0 0000 0000 0110 1110': 2, '0 0 0000 0000 0111 0011': 1, '0 0 0000 0000 0111 0110': 2, '0 0 0000 0000 0111 1001': 2, '0 0 0000 0000 0111 1011': 2, '0 0 0000 0000 0111 1101': 1, '0 0 0000 0000 0111 1111': 1, '0 0 0000 0000 1000 0000': 1, '0 0 0000 0000 1000 0001': 1, '0 0 0000 0000 1000 0010': 2, '0 0 0000 0000 1000 0100': 1, '0 0 0000 0000 1000 0110': 2, '0 0 0000 0000 1001 0000': 1, '0 0 0000 0000 1001 0001': 1, '0 0 0000 0000 1001 0011': 3, '0 0 0000 0000 1001 0100': 2, '0 0 0000 0000 1001 0101': 1, '0 0 0000 0000 1010 0000': 2, '0 0 0000 0000 1010 0001': 1, '0 0 0000 0000 1010 0010': 1, '0 0 0000 0000 1010 0100': 1, '0 0 0000 0000 1010 0110': 1, '0 0 0000 0000 1010 1111': 1, '0 0 0000 0000 1011 0001': 1, '0 0 0000 0000 1011 0010': 1, '0 0 0000 0000 1011 0011': 1, '0 0 0000 0000 1011 1001': 2, '0 0 0000 0000 1011 1100': 1, '0 0 0000 0000 1011 1110': 1, '0 0 0000 0000 1100 0000': 1, '0 0 0000 0000 1100 0001': 1, '0 0 0000 0000 1100 0011': 1, '0 0 0000 0000 1100 0100': 2, '0 0 0000 0000 1100 0111': 1, '0 0 0000 0000 1100 1000': 1, '0 0 0000 0000 1100 1010': 2, '0 0 0000 0000 1100 1100': 2, '0 0 0000 0000 1100 1111': 1, '0 0 0000 0000 1101 0000': 1, '0 0 0000 0000 1101 0001': 1, '0 0 0000 0000 1101 0010': 1, '0 0 0000 0000 1101 0011': 2, '0 0 0000 0000 1101 1001': 1, '0 0 0000 0000 1101 1011': 1, '0 0 0000 0000 1101 1100': 2, '0 0 0000 0000 1101 1110': 1, '0 0 0000 0000 0000 1110': 1, '0 0 0000 0000 1110 0000': 1, '0 0 0000 0000 1110 0001': 1, '0 0 0000 0000 1110 0010': 3, '0 0 0000 0000 1110 0110': 1, '0 0 0000 0000 1110 0111': 2, '0 0 0000 0000 1110 1000': 1, '0 0 0000 0000 1110 1001': 1, '0 0 0000 0000 1110 1100': 1, '0 0 0000 0000 1111 0001': 1, '0 0 0000 0000 1111 0101': 1, '0 0 0000 0000 1111 0110': 1, '0 0 0000 0000 1111 0111': 1}\n"
     ]
    }
   ],
   "source": [
    "result = execute(crt, backend = qasm, shots = 128).result()\n",
    "print(result.get_counts(crt))"
   ]
  },
  {
   "cell_type": "code",
   "execution_count": 18,
   "metadata": {},
   "outputs": [
    {
     "name": "stdout",
     "output_type": "stream",
     "text": [
      "0\n",
      "0\n",
      "0\n",
      "0\n",
      "0\n",
      "0\n",
      "0\n",
      "0\n",
      "0\n",
      "0\n",
      "0\n",
      "0\n",
      "0\n",
      "0\n",
      "0\n",
      "0\n",
      "0\n",
      "0\n",
      "0\n",
      "0\n",
      "0\n",
      "0\n",
      "0\n",
      "0\n",
      "0\n",
      "0\n",
      "0\n",
      "0\n",
      "0\n",
      "0\n",
      "0\n",
      "0\n",
      "0\n",
      "0\n",
      "0\n",
      "0\n",
      "0\n",
      "0\n",
      "0\n",
      "0\n",
      "0\n",
      "0\n",
      "0\n",
      "0\n",
      "0\n",
      "0\n",
      "0\n",
      "0\n",
      "0\n",
      "0\n",
      "0\n",
      "0\n",
      "0\n",
      "0\n",
      "0\n",
      "0\n",
      "0\n",
      "0\n",
      "0\n",
      "0\n",
      "0\n",
      "0\n",
      "0\n",
      "0\n",
      "0\n",
      "0\n",
      "0\n",
      "0\n",
      "0\n",
      "0\n",
      "0\n",
      "0\n",
      "0\n",
      "0\n",
      "0\n",
      "0\n",
      "0\n",
      "0\n",
      "0\n",
      "0\n",
      "0\n",
      "0\n",
      "0\n",
      "0\n",
      "0\n",
      "0\n",
      "0\n",
      "0\n",
      "0\n",
      "0\n",
      "0\n",
      "0\n",
      "0\n",
      "0\n",
      "0\n"
     ]
    }
   ],
   "source": [
    "for k in result.get_counts(crt).keys():\n",
    "    print(k[0])"
   ]
  },
  {
   "cell_type": "code",
   "execution_count": 19,
   "metadata": {},
   "outputs": [
    {
     "name": "stdout",
     "output_type": "stream",
     "text": [
      "{'0 0 0000 0000 0000 0000': 1, '0 0 0000 0000 0001 0010': 1, '0 0 0000 0000 0001 0011': 2, '0 0 0000 0000 0001 0100': 2, '0 0 0000 0000 0001 0101': 1, '0 0 0000 0000 0001 0110': 1, '0 0 0000 0000 0001 0111': 1, '0 0 0000 0000 0001 1011': 1, '0 0 0000 0000 0001 1100': 1, '0 0 0000 0000 0001 1111': 1, '0 0 0000 0000 0010 0000': 2, '0 0 0000 0000 0010 1000': 1, '0 0 0000 0000 0010 1001': 1, '0 0 0000 0000 0010 1010': 2, '0 0 0000 0000 0010 1100': 1, '0 0 0000 0000 0010 1111': 1, '0 0 0000 0000 0000 0011': 1, '0 0 0000 0000 0011 0000': 2, '0 0 0000 0000 0011 0001': 1, '0 0 0000 0000 0011 0010': 1, '0 0 0000 0000 0011 0110': 1, '0 0 0000 0000 0011 0111': 1, '0 0 0000 0000 0100 0001': 1, '0 0 0000 0000 0100 0010': 1, '0 0 0000 0000 0100 1001': 1, '0 0 0000 0000 0100 1011': 2, '0 0 0000 0000 0101 0000': 1, '0 0 0000 0000 0101 0001': 3, '0 0 0000 0000 0101 0011': 1, '0 0 0000 0000 0101 1001': 1, '0 0 0000 0000 0101 1011': 1, '0 0 0000 0000 0101 1110': 1, '0 0 0000 0000 0101 1111': 2, '0 0 0000 0000 0000 0110': 1, '0 0 0000 0000 0110 0000': 1, '0 0 0000 0000 0110 0110': 2, '0 0 0000 0000 0110 1000': 2, '0 0 0000 0000 0110 1001': 1, '0 0 0000 0000 0110 1010': 1, '0 0 0000 0000 0110 1011': 1, '0 0 0000 0000 0110 1111': 2, '0 0 0000 0000 0111 0001': 1, '0 0 0000 0000 0111 1011': 1, '0 0 0000 0000 0111 1100': 1, '0 0 0000 0000 0111 1111': 1, '0 0 0000 0000 1000 0000': 1, '0 0 0000 0000 1000 0001': 1, '0 0 0000 0000 1000 0101': 1, '0 0 0000 0000 1000 1010': 1, '0 0 0000 0000 1000 1011': 1, '0 0 0000 0000 1000 1101': 1, '0 0 0000 0000 1000 1110': 2, '0 0 0000 0000 1000 1111': 1, '0 0 0000 0000 0000 1001': 1, '0 0 0000 0000 1001 0000': 2, '0 0 0000 0000 1001 0001': 1, '0 0 0000 0000 1001 0010': 1, '0 0 0000 0000 1001 0111': 1, '0 0 0000 0000 1001 1000': 2, '0 0 0000 0000 1001 1001': 2, '0 0 0000 0000 0000 1010': 2, '0 0 0000 0000 1010 0000': 1, '0 0 0000 0000 1010 0001': 1, '0 0 0000 0000 1010 0010': 1, '0 0 0000 0000 1010 0100': 2, '0 0 0000 0000 1010 0110': 1, '0 0 0000 0000 1010 1010': 3, '0 0 0000 0000 1010 1011': 1, '0 0 0000 0000 1010 1101': 1, '0 0 0000 0000 1011 0001': 1, '0 0 0000 0000 1011 0010': 2, '0 0 0000 0000 1011 0100': 1, '0 0 0000 0000 1011 0101': 1, '0 0 0000 0000 1011 0110': 2, '0 0 0000 0000 1011 1010': 1, '0 0 0000 0000 1011 1110': 1, '0 0 0000 0000 1100 0001': 4, '0 0 0000 0000 1100 0110': 1, '0 0 0000 0000 1100 1000': 1, '0 0 0000 0000 1100 1001': 1, '0 0 0000 0000 1100 1010': 2, '0 0 0000 0000 1100 1100': 1, '0 0 0000 0000 0000 1101': 2, '0 0 0000 0000 1101 0010': 1, '0 0 0000 0000 1101 1010': 1, '0 0 0000 0000 1101 1011': 2, '0 0 0000 0000 1101 1110': 2, '0 0 0000 0000 0000 1110': 1, '0 0 0000 0000 1110 0000': 1, '0 0 0000 0000 1110 0011': 2, '0 0 0000 0000 1110 0111': 1, '0 0 0000 0000 1110 1000': 1, '0 0 0000 0000 1111 0001': 1, '0 0 0000 0000 1111 0010': 1, '0 0 0000 0000 1111 0110': 1, '0 0 0000 0000 1111 1101': 1, '0 0 0000 0000 1111 1110': 1, '0 0 0000 0000 1111 1111': 1}\n",
      "0\n",
      "0\n",
      "0\n",
      "0\n",
      "0\n",
      "0\n",
      "0\n",
      "0\n",
      "0\n",
      "0\n",
      "0\n",
      "0\n",
      "0\n",
      "0\n",
      "0\n",
      "0\n",
      "0\n",
      "0\n",
      "0\n",
      "0\n",
      "0\n",
      "0\n",
      "0\n",
      "0\n",
      "0\n",
      "0\n",
      "0\n",
      "0\n",
      "0\n",
      "0\n",
      "0\n",
      "0\n",
      "0\n",
      "0\n",
      "0\n",
      "0\n",
      "0\n",
      "0\n",
      "0\n",
      "0\n",
      "0\n",
      "0\n",
      "0\n",
      "0\n",
      "0\n",
      "0\n",
      "0\n",
      "0\n",
      "0\n",
      "0\n",
      "0\n",
      "0\n",
      "0\n",
      "0\n",
      "0\n",
      "0\n",
      "0\n",
      "0\n",
      "0\n",
      "0\n",
      "0\n",
      "0\n",
      "0\n",
      "0\n",
      "0\n",
      "0\n",
      "0\n",
      "0\n",
      "0\n",
      "0\n",
      "0\n",
      "0\n",
      "0\n",
      "0\n",
      "0\n",
      "0\n",
      "0\n",
      "0\n",
      "0\n",
      "0\n",
      "0\n",
      "0\n",
      "0\n",
      "0\n",
      "0\n",
      "0\n",
      "0\n",
      "0\n",
      "0\n",
      "0\n",
      "0\n",
      "0\n",
      "0\n",
      "0\n",
      "0\n",
      "0\n",
      "0\n",
      "0\n"
     ]
    }
   ],
   "source": [
    "crt = initZero()\n",
    "crt.x(4)\n",
    "measureZ(crt)\n",
    "result = execute(crt, backend = qasm, shots = 128).result()\n",
    "print(result.get_counts(crt))\n",
    "for k in result.get_counts(crt).keys():\n",
    "    print(k[0])"
   ]
  },
  {
   "cell_type": "code",
   "execution_count": 20,
   "metadata": {
    "scrolled": false
   },
   "outputs": [
    {
     "name": "stdout",
     "output_type": "stream",
     "text": [
      "{'0 1 0000 0011 0110 1010': 1, '0 1 0000 1011 0110 0010': 1, '0 1 0000 1110 0110 0111': 1, '0 1 0001 0111 0111 1110': 1, '0 1 0010 0111 0100 1110': 1, '0 1 0010 1000 0100 0001': 1, '0 1 0011 0001 0101 1000': 2, '0 1 0011 0111 0101 1110': 1, '0 1 0100 0100 0010 1101': 1, '0 1 0100 0101 0010 1100': 1, '0 1 0101 0110 0011 1111': 1, '0 1 0101 1110 0011 0111': 1, '0 0 0001 0110 0111 1111': 1, '0 1 0111 0000 0001 1001': 1, '0 1 1000 0000 1110 1001': 1, '0 1 1000 0100 1110 1101': 1, '0 1 1000 0110 1110 1111': 1, '0 1 1001 0000 1111 1001': 1, '0 1 1001 0101 1111 1100': 1, '0 1 1001 0110 1111 1111': 1, '0 1 1001 1101 1111 0100': 1, '0 1 1010 0101 1100 1100': 1, '0 1 1010 0110 1100 1111': 1, '0 1 1010 1100 1100 0101': 1, '0 1 1011 1000 1101 0001': 1, '0 1 1011 1101 1101 0100': 1, '0 1 1100 0001 1010 1000': 2, '0 1 1100 0010 1010 1011': 1, '0 1 1101 0000 1011 1001': 1, '0 1 1111 0111 1001 1110': 1, '0 1 1111 1010 1001 0011': 1, '1 0 0000 1010 0110 0011': 1, '1 0 0000 1101 0110 0100': 1, '1 0 0001 0110 0111 1111': 1, '1 0 0001 1010 0111 0011': 1, '1 0 0010 1000 0100 0001': 1, '1 0 0010 1010 0100 0011': 1, '1 0 0011 0000 0101 1001': 1, '1 0 0100 0000 0010 1001': 2, '0 0 0010 0100 0100 1101': 1, '1 0 0101 0000 0011 1001': 1, '1 0 0101 0011 0011 1010': 1, '1 0 0101 1011 0011 0010': 1, '1 0 0111 0100 0001 1101': 1, '1 0 0111 0111 0001 1110': 2, '1 0 1000 1101 1110 0100': 1, '1 0 1001 0010 1111 1011': 1, '1 0 1001 1011 1111 0010': 1, '1 0 1010 1101 1100 0100': 1, '1 0 1011 0001 1101 1000': 1, '1 0 1100 0100 1010 1101': 1, '1 0 1100 0101 1010 1100': 1, '1 0 1100 1001 1010 0000': 1, '1 0 1101 1000 1011 0001': 1, '1 0 1101 1011 1011 0010': 1, '1 0 1110 1001 1000 0000': 1, '1 0 1110 1111 1000 0110': 1, '1 0 1111 0011 1001 1010': 1, '1 0 1111 0101 1001 1100': 1, '1 0 1111 0110 1001 1111': 1, '1 1 0000 1001 0110 0000': 1, '1 1 0000 1010 0110 0011': 2, '1 1 0010 0101 0100 1100': 1, '1 1 0010 1001 0100 0000': 1, '1 1 0011 1101 0101 0100': 1, '1 1 0100 0000 0010 1001': 1, '1 1 0101 0000 0011 1001': 1, '1 1 0101 0101 0011 1100': 1, '1 1 0101 1011 0011 0010': 1, '1 1 0110 0100 0000 1101': 1, '1 1 0110 0101 0000 1100': 1, '1 1 0111 0010 0001 1011': 1, '1 1 0111 0011 0001 1010': 1, '1 1 0111 0111 0001 1110': 2, '1 1 1000 0101 1110 1100': 2, '1 1 1000 0110 1110 1111': 1, '1 1 1000 1011 1110 0010': 1, '1 1 1000 1111 1110 0110': 1, '1 1 1001 1101 1111 0100': 1, '1 1 1001 1111 1111 0110': 1, '1 1 1010 1011 1100 0010': 1, '1 1 1011 1011 1101 0010': 1, '1 1 1011 1111 1101 0110': 1, '1 1 1100 0001 1010 1000': 1, '1 1 1100 1000 1010 0001': 1, '1 1 1101 0111 1011 1110': 1, '1 1 1101 1011 1011 0010': 1, '1 1 1101 1100 1011 0101': 1, '1 1 1110 1101 1000 0100': 1, '1 1 1111 0000 1001 1001': 1, '1 1 1111 1000 1001 0001': 1, '1 1 1111 1101 1001 0100': 1, '1 1 1111 1111 1001 0110': 2, '0 0 0100 1100 0010 0101': 1, '0 0 0101 1000 0011 0001': 1, '0 0 0101 1010 0011 0011': 2, '0 0 0110 1111 0000 0110': 1, '0 0 0111 0111 0001 1110': 1, '0 0 1011 0111 1101 1110': 1, '0 0 1011 1101 1101 0100': 1, '0 0 1011 1111 1101 0110': 1, '0 0 1100 0100 1010 1101': 1, '0 0 1100 0110 1010 1111': 1, '0 0 1100 1011 1010 0010': 1, '0 0 1100 1100 1010 0101': 1, '0 0 1101 0100 1011 1101': 1, '0 0 1101 1111 1011 0110': 2, '0 0 1110 0001 1000 1000': 2, '0 0 1110 0100 1000 1101': 1, '0 0 0000 1110 0110 0111': 2, '0 0 1111 0001 1001 1000': 1, '0 0 1111 1000 1001 0001': 2, '0 0 1111 1010 1001 0011': 1, '0 0 1111 1110 1001 0111': 1, '0 0 1111 1111 1001 0110': 1}\n"
     ]
    }
   ],
   "source": [
    "crt = initZero()\n",
    "crt.y(4)\n",
    "synMeasure(crt, xf, zf)\n",
    "measureX(crt)\n",
    "\n",
    "result = execute(crt, \n",
    "                 backend = qasm,\n",
    "                 basis_gates = noiseC.basis_gates, \n",
    "                 noise_model = noiseC,\n",
    "                 shots = 128).result()\n",
    "print(result.get_counts(crt))"
   ]
  },
  {
   "cell_type": "code",
   "execution_count": 21,
   "metadata": {},
   "outputs": [
    {
     "name": "stdout",
     "output_type": "stream",
     "text": [
      "zero:  59\n",
      "one:  69\n"
     ]
    }
   ],
   "source": [
    "zero = 0\n",
    "one = 0\n",
    "for k, v in result.get_counts(crt).items():\n",
    "    if k[2] == '0':\n",
    "        zero = zero + v\n",
    "    if k[2] =='1':\n",
    "        one = one + v\n",
    "print(\"zero: \", zero)\n",
    "print(\"one: \", one)"
   ]
  },
  {
   "cell_type": "code",
   "execution_count": 23,
   "metadata": {
    "scrolled": true
   },
   "outputs": [
    {
     "data": {
      "image/png": "[encoded data removed]",
      "text/plain": [
       "<Figure size 432x288 with 1 Axes>"
      ]
     },
     "metadata": {},
     "output_type": "display_data"
    }
   ],
   "source": [
    "sz = np.array([\n",
    "    [1, 1, 0, 0, 0, 0, 0, 0, 0],\n",
    "    [0, 1, 1, 0, 1, 1, 0, 0, 0],\n",
    "    [0, 0, 0, 1, 1, 0, 1, 1, 0],\n",
    "    [0, 0, 0, 0, 0, 0, 0, 1, 1]\n",
    "])\n",
    "\n",
    "sx = np.array([\n",
    "    [1, 1, 0, 1, 1, 0, 0, 0, 0],\n",
    "    [0, 0, 1, 0, 0, 1, 0, 0, 0],\n",
    "    [0, 0, 0, 1, 0, 0, 1, 0, 0],\n",
    "    [0, 0, 0, 0, 1, 1, 0, 1, 1]\n",
    "])\n",
    "mz = Matching(sz)\n",
    "mx = Matching(sx)\n",
    "#mz.draw()\n",
    "mx.draw()"
   ]
  },
  {
   "cell_type": "code",
   "execution_count": 23,
   "metadata": {},
   "outputs": [
    {
     "name": "stdout",
     "output_type": "stream",
     "text": [
      "{'1 1 1011 0101 1000 1001': 1}\n"
     ]
    }
   ],
   "source": [
    "crt.id(s)\n",
    "crt.id(s)\n",
    "synMeasure(crt, xf, zf)\n",
    "result = execute(crt, \n",
    "                 backend = qasm,\n",
    "                 basis_gates = noiseC.basis_gates, \n",
    "                 noise_model = noiseC,\n",
    "                 shots = 1).result()\n",
    "print(result.get_counts(crt))"
   ]
  },
  {
   "cell_type": "code",
   "execution_count": 24,
   "metadata": {},
   "outputs": [
    {
     "name": "stdout",
     "output_type": "stream",
     "text": [
      "[1 1 0 0]\n",
      "[0 0 1 1]\n"
     ]
    }
   ],
   "source": [
    "res = list(result.get_counts(crt).keys())[0]\n",
    "svx = np.array([0, 0, 0, 0])\n",
    "svz = np.array([0, 0, 0, 0])\n",
    "for i in range(4):\n",
    "    if res[17 - i] == res[7 - i]:\n",
    "        svx[i] = 0\n",
    "    else: svx[i] = 1\n",
    "    if res[12 - i] == res[22 - i]:\n",
    "        svz[i] = 0\n",
    "    else: svz[i] = 1\n",
    "        \n",
    "print(svx)\n",
    "print(svz)"
   ]
  },
  {
   "cell_type": "code",
   "execution_count": 25,
   "metadata": {},
   "outputs": [
    {
     "data": {
      "text/plain": [
       "array([1, 0, 1, 0, 0, 0, 0, 0, 0], dtype=uint8)"
      ]
     },
     "execution_count": 25,
     "metadata": {},
     "output_type": "execute_result"
    }
   ],
   "source": [
    "mx.decode(svx)"
   ]
  },
  {
   "cell_type": "code",
   "execution_count": 26,
   "metadata": {},
   "outputs": [
    {
     "data": {
      "text/plain": [
       "array([0, 0, 0, 0, 0, 0, 0, 1, 0], dtype=uint8)"
      ]
     },
     "execution_count": 26,
     "metadata": {},
     "output_type": "execute_result"
    }
   ],
   "source": [
    "mz.decode(svz)"
   ]
  },
  {
   "cell_type": "code",
   "execution_count": 27,
   "metadata": {},
   "outputs": [],
   "source": [
    "crt = initZero()\n",
    "crt.id(0)\n",
    "synMeasure(crt, xf, zf)\n",
    "measureZ(crt)\n",
    "result = execute(crt, \n",
    "                 backend = qasm,\n",
    "                 basis_gates = noiseC.basis_gates, \n",
    "                 noise_model = noiseC,\n",
    "                 shots = 1024).result()\n"
   ]
  },
  {
   "cell_type": "code",
   "execution_count": 44,
   "metadata": {
    "scrolled": true
   },
   "outputs": [],
   "source": [
    "def tabulate(result, crt):\n",
    "    zero_i = 0\n",
    "    one_i = 0\n",
    "    zero_f = 0\n",
    "    one_f = 0\n",
    "    for k, v in result.get_counts(crt).items():\n",
    "        svx = np.array([0, 0, 0, 0])\n",
    "        svz = np.array([0, 0, 0, 0])\n",
    "        for i in range(4):\n",
    "            if k[17 - i] == k[7 - i]:\n",
    "                svz[i] = 0\n",
    "            else: svz[i] = 1\n",
    "            if k[12 - i] == k[22 - i]:\n",
    "                svx[i] = 0\n",
    "            else: svx[i] = 1\n",
    "        ex = mx.decode(svx)\n",
    "        ez = mz.decode(svz)\n",
    "        corrected = (int(k[0]) + ez[0] + ez[3] + ez[6]) % 2\n",
    "        if int(k[0]) == 0: zero_i = zero_i + v\n",
    "        else: one_i = one_i + v\n",
    "        if corrected == 0: zero_f = zero_f + v\n",
    "        else: one_f = one_f + v\n",
    "        #print(k, svz, ez, corrected)\n",
    "#     print(\"init zero: \", zero_i)\n",
    "#     print(\"init one: \", one_i)\n",
    "#     print(\"final zero: \", zero_f)\n",
    "#     print(\"final one: \", one_f)\n",
    "#     print(\"sum: \", zero_i + one_i)\n",
    "    return([zero_i, zero_f])"
   ]
  },
  {
   "cell_type": "code",
   "execution_count": 45,
   "metadata": {},
   "outputs": [],
   "source": [
    "def test(p, s):\n",
    "    crt = initZero()\n",
    "    crt.rx(p, 0)\n",
    "    crt.rx(p, 1)\n",
    "    crt.rx(p, 2)\n",
    "    synMeasure(crt, xf, zf)\n",
    "    measureZ(crt)\n",
    "    result = execute(crt, \n",
    "                     backend = qasm,\n",
    "                     shots = s).result()\n",
    "\n",
    "    return(tabulate(result, crt))"
   ]
  },
  {
   "cell_type": "code",
   "execution_count": 48,
   "metadata": {},
   "outputs": [
    {
     "name": "stdout",
     "output_type": "stream",
     "text": [
      "0\n",
      "1\n",
      "2\n",
      "3\n",
      "4\n",
      "5\n",
      "6\n",
      "7\n",
      "8\n",
      "9\n",
      "10\n",
      "11\n",
      "12\n",
      "13\n",
      "14\n",
      "15\n",
      "16\n",
      "17\n",
      "18\n",
      "19\n",
      "20\n",
      "21\n",
      "22\n",
      "23\n",
      "24\n",
      "25\n",
      "26\n",
      "27\n",
      "28\n",
      "29\n",
      "30\n",
      "31\n",
      "32\n",
      "33\n",
      "34\n",
      "35\n",
      "36\n",
      "37\n",
      "38\n",
      "39\n",
      "40\n",
      "41\n",
      "42\n",
      "43\n",
      "44\n",
      "45\n",
      "46\n",
      "47\n",
      "48\n",
      "49\n",
      "50\n",
      "51\n",
      "52\n",
      "53\n",
      "54\n",
      "55\n",
      "56\n",
      "57\n",
      "58\n",
      "59\n",
      "60\n",
      "61\n"
     ]
    }
   ],
   "source": [
    "correction_eff = list()\n",
    "for i in range(62):\n",
    "    print(i)\n",
    "    a = test(i / 20, 100)\n",
    "    if a[0] == 100:\n",
    "        if a[1] == 100:\n",
    "            correction_eff.append(1)\n",
    "        else:\n",
    "            correction_eff.append(a[1] - a[0])\n",
    "    else:\n",
    "        correction_eff.append((a[1] - a[0]) / (100 - a[0]))"
   ]
  },
  {
   "cell_type": "code",
   "execution_count": 49,
   "metadata": {},
   "outputs": [
    {
     "data": {
      "text/plain": [
       "[<matplotlib.lines.Line2D at 0x7fe7a4684f70>]"
      ]
     },
     "execution_count": 49,
     "metadata": {},
     "output_type": "execute_result"
    },
    {
     "data": {
      "image/png": "[encoded data removed]",
      "text/plain": [
       "<Figure size 432x288 with 1 Axes>"
      ]
     },
     "metadata": {
      "needs_background": "light"
     },
     "output_type": "display_data"
    }
   ],
   "source": [
    "plt.plot(correction_eff)"
   ]
  },
  {
   "cell_type": "code",
   "execution_count": 61,
   "metadata": {},
   "outputs": [
    {
     "data": {
      "text/plain": [
       "[<matplotlib.lines.Line2D at 0x7fe7a42dd610>]"
      ]
     },
     "execution_count": 61,
     "metadata": {},
     "output_type": "execute_result"
    },
    {
     "data": {
      "image/png": "[encoded data removed]",
      "text/plain": [
       "<Figure size 432x288 with 1 Axes>"
      ]
     },
     "metadata": {
      "needs_background": "light"
     },
     "output_type": "display_data"
    }
   ],
   "source": [
    "x = np.array(range(62))\n",
    "x = x / 20\n",
    "y = np.array(correction_eff)\n",
    "xnew = np.linspace(x.min(), x.max(), 200)\n",
    "spl = make_interp_spline(x, y, k = 5)\n",
    "y_smooth = spl(xnew)\n",
    "plt.plot(xnew, y_smooth)"
   ]
  },
  {
   "cell_type": "code",
   "execution_count": null,
   "metadata": {},
   "outputs": [],
   "source": []
  }
 ],
 "metadata": {
  "kernelspec": {
   "display_name": "Python 3",
   "language": "python",
   "name": "python3"
  },
  "language_info": {
   "codemirror_mode": {
    "name": "ipython",
    "version": 3
   },
   "file_extension": ".py",
   "mimetype": "text/x-python",
   "name": "python",
   "nbconvert_exporter": "python",
   "pygments_lexer": "ipython3",
   "version": "3.8.5"
  }
 },
 "nbformat": 4,
 "nbformat_minor": 4
}
