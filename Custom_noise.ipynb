{
 "cells": [
  {
   "cell_type": "code",
   "execution_count": 12,
   "metadata": {},
   "outputs": [],
   "source": [
    "from qiskit import *\n",
    "from qiskit.providers.aer import noise\n",
    "from qiskit.tools.visualization import plot_histogram\n",
    "from qiskit.tools.monitor import job_monitor\n",
    "from qiskit.providers.aer.noise import NoiseModel"
   ]
  },
  {
   "cell_type": "code",
   "execution_count": 13,
   "metadata": {},
   "outputs": [],
   "source": [
    "noiseC = noise.NoiseModel()\n",
    "noiseC.add_all_qubit_quantum_error(noise.pauli_error([('X', 0.01), ('Y', 0.01), ('Z', 0.01), ('I', 0.97)]), ['id'])"
   ]
  },
  {
   "cell_type": "code",
   "execution_count": 14,
   "metadata": {},
   "outputs": [],
   "source": [
    "basis_gates = noiseC.basis_gates"
   ]
  },
  {
   "cell_type": "code",
   "execution_count": 15,
   "metadata": {},
   "outputs": [
    {
     "data": {
      "text/plain": [
       "<qiskit.circuit.instructionset.InstructionSet at 0x7efdd29ea070>"
      ]
     },
     "execution_count": 15,
     "metadata": {},
     "output_type": "execute_result"
    }
   ],
   "source": [
    "circuit = QuantumCircuit(2, 2)\n",
    "for i in range(10):\n",
    "    circuit.id([0, 1])\n",
    "circuit.barrier()\n",
    "circuit.measure(1, 1)\n",
    "circuit.measure(0, 0)"
   ]
  },
  {
   "cell_type": "code",
   "execution_count": 16,
   "metadata": {},
   "outputs": [
    {
     "data": {
      "image/png": "[encoded data removed]",
      "text/plain": [
       "<Figure size 869.052x204.68 with 1 Axes>"
      ]
     },
     "execution_count": 16,
     "metadata": {},
     "output_type": "execute_result"
    }
   ],
   "source": [
    "circuit.draw(output='mpl')"
   ]
  },
  {
   "cell_type": "code",
   "execution_count": 17,
   "metadata": {},
   "outputs": [
    {
     "data": {
      "image/png": "[encoded data removed]",
      "text/plain": [
       "<Figure size 504x360 with 1 Axes>"
      ]
     },
     "execution_count": 17,
     "metadata": {},
     "output_type": "execute_result"
    }
   ],
   "source": [
    "result = execute(circuit, Aer.get_backend('qasm_simulator'), \n",
    "                basis_gates = basis_gates, \n",
    "                noise_model = noiseC).result()\n",
    "plot_histogram(result.get_counts(circuit))"
   ]
  },
  {
   "cell_type": "code",
   "execution_count": 11,
   "metadata": {},
   "outputs": [
    {
     "name": "stdout",
     "output_type": "stream",
     "text": [
      "{'errors': [{'type': 'qerror', 'operations': ['id'], 'instructions': [[{'name': 'x', 'qubits': [0]}], [{'name': 'y', 'qubits': [0]}], [{'name': 'z', 'qubits': [0]}], [{'name': 'id', 'qubits': [0]}]], 'probabilities': [0.01, 0.01, 0.01, 0.97]}], 'x90_gates': []}\n"
     ]
    }
   ],
   "source": [
    "print(noiseC.to_dict())"
   ]
  },
  {
   "cell_type": "code",
   "execution_count": null,
   "metadata": {},
   "outputs": [],
   "source": [
    "{\n",
    "    'errors': [\n",
    "        {\n",
    "            'type': 'qerror', 'operations': ['id'], 'instructions': [\n",
    "                [{'name': 'x', 'qubits': [0]}], \n",
    "                [{'name': 'y', 'qubits': [0]}],\n",
    "                [{'name': 'z', 'qubits': [0]}], \n",
    "                [{'name': 'id', 'qubits': [0]}]\n",
    "            ], 'probabilities': [0.01, 0.01, 0.01, 0.97]\n",
    "        }\n",
    "    ]\n",
    "    , 'x90_gates': []\n",
    "}\n"
   ]
  }
 ],
 "metadata": {
  "kernelspec": {
   "display_name": "Python 3",
   "language": "python",
   "name": "python3"
  },
  "language_info": {
   "codemirror_mode": {
    "name": "ipython",
    "version": 3
   },
   "file_extension": ".py",
   "mimetype": "text/x-python",
   "name": "python",
   "nbconvert_exporter": "python",
   "pygments_lexer": "ipython3",
   "version": "3.8.5"
  }
 },
 "nbformat": 4,
 "nbformat_minor": 4
}
